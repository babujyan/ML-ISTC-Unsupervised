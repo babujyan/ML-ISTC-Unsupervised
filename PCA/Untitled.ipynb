{
 "cells": [
  {
   "cell_type": "code",
   "execution_count": 2,
   "metadata": {},
   "outputs": [],
   "source": [
    "import numpy as np"
   ]
  },
  {
   "cell_type": "code",
   "execution_count": 128,
   "metadata": {},
   "outputs": [],
   "source": [
    "class PCA:\n",
    "    def __init__(self, k):\n",
    "        self.k = k\n",
    "        self.location_ = None\n",
    "        self.matrix_ = None\n",
    "\n",
    "    def fit(self, data):\n",
    "        \"\"\"\n",
    "        finds best params for X = Mu + A * Lambda\n",
    "        :param data: data of shape (number of samples, number of features)\n",
    "        HINT! use SVD\n",
    "        \"\"\"\n",
    "        data = data/np.linalg.norm(data,axis=0)\n",
    "        mean_ = np.mean(data, axis=0)\n",
    "        data -= mean_\n",
    "#         cov_matix = np.cov(data.T.dot(data))\n",
    "#         w , v  = np.linalg.eig(cov_matix)\n",
    "        \n",
    "        u,s,v = np.linalg.svd(data, full_matrices=False)\n",
    "        self.matrix_ = v[:self.k]\n",
    "    def transform(self, data):\n",
    "        \"\"\"\n",
    "        for given data returns Lambdas\n",
    "        x_i = mu + A dot lambda_i\n",
    "        where mu is location_, A is matrix_ and lambdas are projection of x_i\n",
    "        on linear space from A's rows as basis\n",
    "        :param data: data of shape (number of samples, number of features)\n",
    "        \"\"\"\n",
    "        # Lemma: x is vector and A dot A.T == I, then x's coordinates in Linear Space(A's rows as basis)\n",
    "        # is A dot x\n",
    "        \n",
    "        \n",
    "        \n",
    "        return np.dot(self.matrix_, data.T).T\n"
   ]
  },
  {
   "cell_type": "code",
   "execution_count": 111,
   "metadata": {},
   "outputs": [],
   "source": [
    "data = np.random.rand(5,4)"
   ]
  },
  {
   "cell_type": "code",
   "execution_count": 112,
   "metadata": {},
   "outputs": [
    {
     "data": {
      "text/plain": [
       "(5, 4)"
      ]
     },
     "execution_count": 112,
     "metadata": {},
     "output_type": "execute_result"
    }
   ],
   "source": [
    "data.shape\n"
   ]
  },
  {
   "cell_type": "code",
   "execution_count": 113,
   "metadata": {},
   "outputs": [
    {
     "data": {
      "text/plain": [
       "array([[0.96472769, 0.27098043, 0.84632791, 0.60331038],\n",
       "       [0.79663736, 0.64803847, 0.98468032, 0.70248042],\n",
       "       [0.25395349, 0.91486889, 0.21574354, 0.28023912],\n",
       "       [0.09815306, 0.30200466, 0.14211557, 0.31903696],\n",
       "       [0.49991518, 0.70096588, 0.54199126, 0.24701492]])"
      ]
     },
     "execution_count": 113,
     "metadata": {},
     "output_type": "execute_result"
    }
   ],
   "source": [
    "data"
   ]
  },
  {
   "cell_type": "code",
   "execution_count": 114,
   "metadata": {},
   "outputs": [
    {
     "data": {
      "text/plain": [
       "array([[-0.6280174 ],\n",
       "       [ 0.14451931],\n",
       "       [-0.62475372],\n",
       "       [-0.44089806]])"
      ]
     },
     "execution_count": 114,
     "metadata": {},
     "output_type": "execute_result"
    }
   ],
   "source": [
    "pca = PCA(1)\n",
    "\n",
    "pca.fit(data)"
   ]
  },
  {
   "cell_type": "code",
   "execution_count": 129,
   "metadata": {},
   "outputs": [
    {
     "name": "stdout",
     "output_type": "stream",
     "text": [
      "(3, 4)\n"
     ]
    },
    {
     "data": {
      "text/plain": [
       "array([[-1.36144876,  0.4626573 ,  0.0102482 ],\n",
       "       [-1.33155301,  0.83066192,  0.23331814],\n",
       "       [-0.28561445,  0.92624779,  0.22338865],\n",
       "       [-0.24744633,  0.29864107,  0.25357232],\n",
       "       [-0.66017179,  0.81083561,  0.0279442 ]])"
      ]
     },
     "execution_count": 129,
     "metadata": {},
     "output_type": "execute_result"
    }
   ],
   "source": [
    "pca = PCA(3)\n",
    "pca.fit(data)\n",
    "pca.transform(data)"
   ]
  },
  {
   "cell_type": "code",
   "execution_count": 102,
   "metadata": {},
   "outputs": [
    {
     "data": {
      "text/plain": [
       "(array([[-0.11274877, -0.57131132, -0.42049975, -0.52257393, -0.4593338 ],\n",
       "        [-0.26063535, -0.43814405, -0.21192208, -0.02673304,  0.8333507 ],\n",
       "        [-0.40852192, -0.30497678,  0.83715387, -0.18085171, -0.08102512],\n",
       "        [-0.55640849, -0.1718095 , -0.20473204,  0.73015868, -0.29299179],\n",
       "        [-0.66548957,  0.59925273, -0.18848657, -0.40045324,  0.04614998]]),\n",
       " array([19.10216809,  1.05222356]),\n",
       " array([[-0.6712081 , -0.74126897],\n",
       "        [ 0.74126897, -0.6712081 ]]))"
      ]
     },
     "execution_count": 102,
     "metadata": {},
     "output_type": "execute_result"
    }
   ],
   "source": [
    "np.linalg.svd(np.array([[1,2],[3,4],[5,6],[7,8],[9,9]]))"
   ]
  },
  {
   "cell_type": "code",
   "execution_count": null,
   "metadata": {},
   "outputs": [],
   "source": []
  },
  {
   "cell_type": "code",
   "execution_count": null,
   "metadata": {},
   "outputs": [],
   "source": []
  }
 ],
 "metadata": {
  "kernelspec": {
   "display_name": "Python 3",
   "language": "python",
   "name": "python3"
  },
  "language_info": {
   "codemirror_mode": {
    "name": "ipython",
    "version": 3
   },
   "file_extension": ".py",
   "mimetype": "text/x-python",
   "name": "python",
   "nbconvert_exporter": "python",
   "pygments_lexer": "ipython3",
   "version": "3.6.4"
  }
 },
 "nbformat": 4,
 "nbformat_minor": 2
}
