{
 "cells": [
  {
   "cell_type": "code",
   "execution_count": 2,
   "metadata": {},
   "outputs": [],
   "source": [
    "from sklearn.decomposition import FastICA\n",
    "import matplotlib.pyplot as plt\n",
    "import matplotlib.image as mpimg\n",
    "import numpy as np"
   ]
  },
  {
   "cell_type": "code",
   "execution_count": null,
   "metadata": {},
   "outputs": [],
   "source": [
    "\n",
    "def process(images):\n",
    "    # TODO: fix means and variances of images\n",
    "    pass\n",
    "\n"
   ]
  },
  {
   "cell_type": "code",
   "execution_count": 3,
   "metadata": {},
   "outputs": [],
   "source": [
    "\n",
    "images = np.array([mpimg.imread(f'gen_img{i}.png').flatten() for i in range(5)])\n",
    "# TODO: Fit Fast ICA and get new images\n",
    "\n",
    "new_images = None\n",
    "ica = FastICA()\n",
    "new_images = ica.fit_transform()\n",
    "new_images = new_images.reshape((3, 800, 600, 4))\n",
    "new_images = process(new_images)\n",
    "\n",
    "# for i in new_images:\n",
    "#     plt.imshow(i.clip(min=0, max=1))\n",
    "#     plt.show()\n"
   ]
  },
  {
   "cell_type": "code",
   "execution_count": 4,
   "metadata": {},
   "outputs": [
    {
     "data": {
      "text/plain": [
       "array([[0.8509804 , 0.87058824, 0.92156863, ..., 0.32941177, 0.29803923,\n",
       "        1.        ],\n",
       "       [0.654902  , 0.72156864, 0.85882354, ..., 0.52156866, 0.4392157 ,\n",
       "        1.        ],\n",
       "       [0.78039217, 0.8352941 , 0.92941177, ..., 0.22352941, 0.15686275,\n",
       "        1.        ],\n",
       "       [0.8627451 , 0.87058824, 0.9098039 , ..., 0.40784314, 0.39215687,\n",
       "        1.        ],\n",
       "       [0.9411765 , 0.9137255 , 0.9137255 , ..., 0.44313726, 0.45882353,\n",
       "        1.        ]], dtype=float32)"
      ]
     },
     "execution_count": 4,
     "metadata": {},
     "output_type": "execute_result"
    }
   ],
   "source": [
    "images\n"
   ]
  },
  {
   "cell_type": "code",
   "execution_count": null,
   "metadata": {},
   "outputs": [],
   "source": []
  }
 ],
 "metadata": {
  "kernelspec": {
   "display_name": "Python 3",
   "language": "python",
   "name": "python3"
  },
  "language_info": {
   "codemirror_mode": {
    "name": "ipython",
    "version": 3
   },
   "file_extension": ".py",
   "mimetype": "text/x-python",
   "name": "python",
   "nbconvert_exporter": "python",
   "pygments_lexer": "ipython3",
   "version": "3.6.4"
  }
 },
 "nbformat": 4,
 "nbformat_minor": 2
}
